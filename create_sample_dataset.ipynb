{
 "cells": [
  {
   "cell_type": "code",
   "execution_count": 1,
   "id": "67469a4b",
   "metadata": {},
   "outputs": [],
   "source": [
    "import pandas as pd\n",
    "\n",
    "MAX_ROWS = 1000\n",
    "\n",
    "df_mimic_pairs = pd.read_csv('data/medical-diff-vqa-1.0.1/mimic_pair_questions.csv')\n",
    "df_mimic_pairs.head(MAX_ROWS).to_csv(f'data/medical-diff-vqa-1.0.1/mimic_pair_questions_{MAX_ROWS}.csv')"
   ]
  },
  {
   "cell_type": "code",
   "execution_count": 2,
   "id": "5b326de1",
   "metadata": {},
   "outputs": [],
   "source": [
    "df_mimic_all = pd.read_csv('data/medical-diff-vqa-1.0.1/mimic_all.csv')\n",
    "df_mimic_all.head(MAX_ROWS).to_csv(f'data/medical-diff-vqa-1.0.1/mimic_all_{MAX_ROWS}.csv')"
   ]
  }
 ],
 "metadata": {
  "kernelspec": {
   "display_name": "cxr-env",
   "language": "python",
   "name": "python3"
  },
  "language_info": {
   "codemirror_mode": {
    "name": "ipython",
    "version": 3
   },
   "file_extension": ".py",
   "mimetype": "text/x-python",
   "name": "python",
   "nbconvert_exporter": "python",
   "pygments_lexer": "ipython3",
   "version": "3.12.10"
  }
 },
 "nbformat": 4,
 "nbformat_minor": 5
}
